{
 "cells": [
  {
   "cell_type": "code",
   "execution_count": null,
   "metadata": {},
   "outputs": [],
   "source": []
  },
  {
   "cell_type": "code",
   "execution_count": 6,
   "metadata": {},
   "outputs": [
    {
     "name": "stdout",
     "output_type": "stream",
     "text": [
      "Happy birth day to you\n",
      "I don`t want to be sued\n",
      "So , I will stop right here \n",
      "The rally around the family\n",
      "With pockets full of shells\n"
     ]
    }
   ],
   "source": [
    "# Firs class of an example \n",
    "\n",
    "class song (object):\n",
    "    def __init__(self, lyrics):\n",
    "        self.lyrics = lyrics\n",
    "    def sing_me_a_song (self):\n",
    "        for line in self.lyrics:\n",
    "            print(line)\n",
    "happy_bday = song([\"Happy birth day to you\",\n",
    "                   \"I don`t want to be sued\", \n",
    "                   \"So , I will stop right here \"\n",
    "                  ])\n",
    "bulls_on_parade = song ([\"The rally around the family\", \n",
    "                         \"With pockets full of shells\"\n",
    "                        ])\n",
    "happy_bday.sing_me_a_song()\n",
    "bulls_on_parade.sing_me_a_song()\n",
    "\n",
    "        "
   ]
  },
  {
   "cell_type": "code",
   "execution_count": 1,
   "metadata": {},
   "outputs": [
    {
     "name": "stdout",
     "output_type": "stream",
     "text": [
      "[0, 10]\n"
     ]
    }
   ],
   "source": [
    "# Fibonaci Squence  Using Dynamic Programming \n",
    "\n",
    "\n",
    "FibArray = [0,10]\n",
    "def  Fibonacci(n):\n",
    "    if n < 0: \n",
    "        print(\"Incorect Input\")\n",
    "    elif n <=len(FibArray):\n",
    "        return FibArray[n-1]\n",
    "    else:\n",
    "        temp_fib = fibonacci(n-1) + fibonacci(n-2)\n",
    "        FibArray.append(temp_fib)\n",
    "        return temp_fib \n",
    "\n",
    "    #  Driver Program \n",
    "#        return Fibonacci(n)\n",
    "print(FibArray)\n",
    "\n",
    "\n",
    "        "
   ]
  },
  {
   "cell_type": "code",
   "execution_count": 11,
   "metadata": {},
   "outputs": [
    {
     "name": "stdout",
     "output_type": "stream",
     "text": [
      "The Temp is : 0.0 C\n",
      "The Temp is : 13.88888888888889 C\n"
     ]
    }
   ],
   "source": [
    "def F_to_C(temp):\n",
    "    return (temp - 32) * (5/9)\n",
    "#     if temp == 57: \n",
    "print (\"The Temp is :\", F_to_C(32), 'C')\n",
    "print (\"The Temp is :\", F_to_C(57), 'C')\n",
    "\n",
    "        "
   ]
  },
  {
   "cell_type": "code",
   "execution_count": 25,
   "metadata": {},
   "outputs": [
    {
     "name": "stdout",
     "output_type": "stream",
     "text": [
      ">>> Test1\n",
      "$$$ Test1\n"
     ]
    }
   ],
   "source": [
    "def label_print(msg , label_str =\">>>\"):\n",
    "    print(label_str, msg)\n",
    "label_print(\"Test1\")\n",
    "label_print(\"Test1\", \"$$$\")\n"
   ]
  },
  {
   "cell_type": "code",
   "execution_count": 32,
   "metadata": {},
   "outputs": [
    {
     "name": "stdout",
     "output_type": "stream",
     "text": [
      "no parameters:\n",
      "a: 1 b: 2 c: 3\n",
      "one parameter:\n",
      "a: 55 b: 2 c: 3\n",
      "Two parameters:\n",
      "a: 55 b: 66 c: 3\n",
      "Three parameters:\n",
      "a: 44 b: 55 c: 66\n",
      "only setting the value of c:\n",
      "a: 1 b: 77 c: 3\n"
     ]
    }
   ],
   "source": [
    "\n",
    "# DEfining Defaults\n",
    "\n",
    "def display(a = 1 , b =2 , c =3):\n",
    "    print (\"a:\", a , \"b:\",b ,\"c:\",c )\n",
    "print('no parameters:')\n",
    "display()\n",
    "print ('one parameter:')\n",
    "display(55)\n",
    "print('Two parameters:')\n",
    "display(55 , 66)\n",
    "print('Three parameters:')\n",
    "display(44 , 55 , 66 )\n",
    "print (\"only setting the value of c:\")\n",
    "# we want to pass in \n",
    "display(b =77)\n"
   ]
  },
  {
   "cell_type": "code",
   "execution_count": 1,
   "metadata": {},
   "outputs": [],
   "source": [
    "# Readable Functions . \n",
    "# Consider those two functions : \n",
    "def std (p):\n",
    "    a = 0 \n",
    "    for v in p:\n",
    "        a += v\n",
    "    m = a /len(p)\n",
    "    d = 0 \n",
    "    for v in p : \n",
    "        d+= (v-m) * (v-m)\n",
    "    return numpy.sqrt(d/len(p) - 1)\n"
   ]
  },
  {
   "cell_type": "code",
   "execution_count": null,
   "metadata": {},
   "outputs": [],
   "source": []
  }
 ],
 "metadata": {
  "kernelspec": {
   "display_name": "Python 3",
   "language": "python",
   "name": "python3"
  },
  "language_info": {
   "codemirror_mode": {
    "name": "ipython",
    "version": 3
   },
   "file_extension": ".py",
   "mimetype": "text/x-python",
   "name": "python",
   "nbconvert_exporter": "python",
   "pygments_lexer": "ipython3",
   "version": "3.7.2"
  }
 },
 "nbformat": 4,
 "nbformat_minor": 2
}
